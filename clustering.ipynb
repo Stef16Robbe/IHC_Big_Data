{
 "metadata": {
  "language_info": {
   "codemirror_mode": {
    "name": "ipython",
    "version": 3
   },
   "file_extension": ".py",
   "mimetype": "text/x-python",
   "name": "python",
   "nbconvert_exporter": "python",
   "pygments_lexer": "ipython3",
   "version": "3.9.4"
  },
  "orig_nbformat": 2,
  "kernelspec": {
   "name": "python394jvsc74a57bd0af808db4daafcacfe74ea9141d608da3cbac67c9a1c00ee4ef16b8cf9d10383b",
   "display_name": "Python 3.9.4 64-bit"
  },
  "metadata": {
   "interpreter": {
    "hash": "af808db4daafcacfe74ea9141d608da3cbac67c9a1c00ee4ef16b8cf9d10383b"
   }
  }
 },
 "nbformat": 4,
 "nbformat_minor": 2,
 "cells": [
  {
   "cell_type": "code",
   "execution_count": 1,
   "metadata": {},
   "outputs": [],
   "source": [
    "import numpy as np\n",
    "import pandas as pd\n",
    "import seaborn as sns\n",
    "import statsmodels.api as sm\n",
    "import matplotlib.pyplot as plt\n",
    "from sklearn.linear_model import LogisticRegression\n",
    "from sklearn.model_selection import train_test_split\n",
    "from statsmodels.stats.outliers_influence import variance_inflation_factor\n",
    "import datetime as dt\n",
    "from sklearn.preprocessing import StandardScaler\n",
    "from xgboost import XGBClassifier\n",
    "from sklearn import metrics"
   ]
  },
  {
   "cell_type": "code",
   "execution_count": 2,
   "metadata": {},
   "outputs": [],
   "source": [
    "df = pd.read_csv(\"data/new/New7.csv\", sep=';')\n",
    "df = df.dropna()\n",
    "\n",
    "df[\"Customer Country\"] = pd.Categorical(df[\"Customer Country\"])\n",
    "df[\"Shipper Country\"] = pd.Categorical(df[\"Shipper Country\"])\n",
    "\n",
    "df[\"Customer Country Codes\"] = df[\"Customer Country\"].cat.codes\n",
    "df[\"Shipper Country Codes\"] = df[\"Shipper Country\"].cat.codes\n",
    "\n",
    "df[\"Ship Date\"] = pd.to_datetime(df[\"Ship Date\"], format='%d-%m-%Y %H:%M')\n",
    "df[\"Actual Del Date\"] = pd.to_datetime(df[\"Actual Del Date\"], format='%d-%m-%Y %H:%M', errors=\"coerce\")\n",
    "\n",
    "df[\"test\"] = df[\"Actual Del Date\"] - df[\"Ship Date\"]\n",
    "df = df.drop_duplicates()\n",
    "df[\"Shipment Time\"] = (df[\"test\"]).dt.days\n",
    "del df[\"test\"]"
   ]
  },
  {
   "cell_type": "code",
   "execution_count": 3,
   "metadata": {},
   "outputs": [],
   "source": [
    "indexNames = df[ df['Shipment Time'] < 1].index\n",
    "df.drop(indexNames , inplace=True)\n",
    "\n",
    "indexNames = df[ df['Shipper Country Codes'] < 1].index\n",
    "df.drop(indexNames , inplace=True)\n",
    "\n",
    "df = df.dropna()\n",
    "df[\"Shipment Time\"] = df[\"Shipment Time\"].astype(\"int32\")\n",
    "\n",
    "indexNames = df[ df['Shipment Time'] > 365 ].index\n",
    "df.drop(indexNames , inplace=True)\n",
    "\n",
    "df = df.reset_index(drop=True)\n",
    "df.to_csv(r\"test.csv\", index=False)"
   ]
  },
  {
   "cell_type": "code",
   "execution_count": 16,
   "metadata": {},
   "outputs": [
    {
     "output_type": "stream",
     "name": "stdout",
     "text": [
      "71\n"
     ]
    }
   ],
   "source": [
    "print(len(df[\"Customer Country Codes\"].unique()))"
   ]
  },
  {
   "cell_type": "code",
   "execution_count": 8,
   "metadata": {},
   "outputs": [
    {
     "output_type": "execute_result",
     "data": {
      "text/plain": [
       "model    Logistic Regression\n",
       "score                0.41573\n",
       "dtype: object"
      ]
     },
     "metadata": {},
     "execution_count": 8
    }
   ],
   "source": [
    "x = df[\"Customer Country Codes\"].to_numpy()\n",
    "y = df[\"Shipment Time\"].to_numpy()\n",
    "xRes = x.reshape((-1,1))\n",
    "yRes = y.reshape((-1,1))\n",
    "\n",
    "x_train, x_test, y_train, y_test = train_test_split(xRes, yRes, test_size=0.3, random_state=101)\n",
    "\n",
    "scaler = StandardScaler()\n",
    "scaler.fit(x_train)\n",
    "\n",
    "X_trainScaled = scaler.transform(x_train)\n",
    "X_testScaled = scaler.transform(x_test)\n",
    "\n",
    "accScores = pd.DataFrame(columns = ['model', 'score'])\n",
    "model = LogisticRegression(multi_class='multinomial')\n",
    "model.fit(X_trainScaled, y_train.ravel())\n",
    "y_pred = model.predict(X_testScaled)\n",
    "score = metrics.accuracy_score(y_test, y_pred)\n",
    "pd.Series([\"Logistic Regression\", score], index=accScores.columns)"
   ]
  },
  {
   "cell_type": "code",
   "execution_count": 9,
   "metadata": {},
   "outputs": [
    {
     "output_type": "stream",
     "name": "stdout",
     "text": [
      "[43]\n"
     ]
    }
   ],
   "source": [
    "pred = model.predict(np.array([[54]]))\n",
    "print(pred)"
   ]
  },
  {
   "cell_type": "code",
   "execution_count": 6,
   "metadata": {},
   "outputs": [],
   "source": [
    "# import numpy as np\n",
    "# import matplotlib.pyplot as plt \n",
    "# import pandas as pd\n",
    "# from sklearn.model_selection import train_test_split\n",
    "# from sklearn.dummy import DummyClassifier\n",
    "\n",
    "# from sklearn import metrics\n",
    "# from sklearn.metrics import confusion_matrix\n",
    "\n",
    "# from sklearn.naive_bayes import CategoricalNB\n",
    "# from sklearn.naive_bayes import GaussianNB\n",
    "# from sklearn.naive_bayes import MultinomialNB\n",
    "# from sklearn.naive_bayes import ComplementNB\n",
    "\n",
    "# from sklearn.model_selection import GridSearchCV\n",
    "# from sklearn.metrics import classification_report\n",
    "\n",
    "# from sklearn.svm import SVC\n",
    "# from sklearn.preprocessing import StandardScaler\n",
    "# from mpl_toolkits import mplot3d\n",
    "# from ipywidgets import interact, fixed\n",
    "# from sklearn.neighbors import KNeighborsClassifier\n",
    "# from sklearn.ensemble import ExtraTreesClassifier\n",
    "# from sklearn.ensemble import RandomForestClassifier\n",
    "\n",
    "# import six\n",
    "# import sys\n",
    "# sys.modules['sklearn.externals.six'] = six\n",
    "# from id3 import Id3Estimator\n",
    "# from sklearn.tree import DecisionTreeClassifier\n",
    "# from sklearn.discriminant_analysis import LinearDiscriminantAnalysis\n",
    "# from sklearn.discriminant_analysis import QuadraticDiscriminantAnalysis\n",
    "# from sklearn.linear_model import LogisticRegression\n",
    "# from sklearn.ensemble import AdaBoostClassifier\n",
    "# from sklearn.ensemble import GradientBoostingClassifier\n",
    "# from sklearn.experimental import enable_hist_gradient_boosting\n",
    "# from sklearn.ensemble import HistGradientBoostingClassifier\n",
    "# from xgboost import XGBClassifier\n",
    "# from sklearn.ensemble import StackingClassifier\n",
    "# from sklearn.pipeline import make_pipeline\n",
    "# from sklearn.svm import LinearSVC\n",
    "# from sklearn.model_selection import GridSearchCV\n",
    "# from sklearn import tree\n",
    "\n",
    "# from sklearn import metrics\n",
    "# xRes = x.reshape((-1,1))\n",
    "# yRes = y.reshape((-1,1))\n",
    "\n",
    "# x_train, x_test, y_train, y_test = train_test_split(xRes, yRes, test_size=0.4, random_state=101)\n",
    "\n",
    "# # set the scaler\n",
    "# scaler = StandardScaler()\n",
    "# scaler.fit(x_train)\n",
    "\n",
    "# # Convert the train and test X values, using the same scaler (so based on the X_train)\n",
    "# X_trainScaled = scaler.transform(x_train)\n",
    "# X_testScaled = scaler.transform(x_test)\n",
    "\n",
    "# accScores = pd.DataFrame(columns = ['model', 'score'])\n",
    "\n",
    "# # Create a list with all the different models (except polynomial svm).\n",
    "# models =[[\"Dummy - Uniform\", DummyClassifier(strategy=\"uniform\")]]\n",
    "# models.append(['LDA', LinearDiscriminantAnalysis()])\n",
    "# # models.append(['QDA', QuadraticDiscriminantAnalysis()])\n",
    "# models.append(['Logistic Regression', LogisticRegression()])\n",
    "# models.append(['Multinomial LR', LogisticRegression(multi_class='multinomial')])\n",
    "# models.append(['Boosting - AdaBoost', AdaBoostClassifier(random_state=0)])\n",
    "# models.append(['Boosting - Gradient', GradientBoostingClassifier(random_state=0)])\n",
    "# # models.append(['Boosting - Histogram Gradient', HistGradientBoostingClassifier(random_state=0)])\n",
    "# # models.append(['Boosting - XGboost', XGBClassifier()])\n",
    "# estimators = [\n",
    "#     ('rf', RandomForestClassifier(n_estimators=10, random_state=42)),\n",
    "#     ('svr', make_pipeline(StandardScaler(),\n",
    "#                           LinearSVC(random_state=42)))]\n",
    "# models.append(['Stacking', StackingClassifier(estimators=estimators, final_estimator = LogisticRegression())])\n",
    "\n",
    "# # Now to iterate over all of them:\n",
    "# for i in models:\n",
    "#     print(i[1])\n",
    "#     model = i[1]\n",
    "#     model.fit(X_trainScaled, y_train)\n",
    "#     y_pred = model.predict(X_testScaled)\n",
    "#     score=metrics.accuracy_score(y_test, y_pred)\n",
    "#     newRow=pd.Series([i[0], score], index=accScores.columns)\n",
    "#     accScores=accScores.append(newRow, ignore_index=True)\n",
    "    \n",
    "# # And show all results sorted by their score:\n",
    "# accScores.sort_values(by=['score'])"
   ]
  }
 ]
}